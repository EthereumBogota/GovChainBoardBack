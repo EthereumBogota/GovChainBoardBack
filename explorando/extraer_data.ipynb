{
 "cells": [
  {
   "cell_type": "markdown",
   "metadata": {},
   "source": [
    "Notas:\n",
    "- Great Analytics ETH Resource https://ethereum.org/en/developers/docs/data-and-analytics/"
   ]
  },
  {
   "cell_type": "code",
   "execution_count": null,
   "metadata": {},
   "outputs": [],
   "source": []
  },
  {
   "cell_type": "markdown",
   "metadata": {},
   "source": [
    "#### Important Jargon about Gobernor Contract:\n",
    "To be continued"
   ]
  },
  {
   "cell_type": "markdown",
   "metadata": {},
   "source": [
    "#### Important Jargon for future integrations with MeeDapp (**You may ignore it**):\n",
    "- A **contract factory** is  a smart contract that is designed to create other smart contracts. It acts as a template or a blueprint for creating multiple instances of similar smart contracts. \n",
    "- **Internal Txns** are also called \"internal transactions\" and it refer to transactions that occur within the internal state of the blockchain network. \n",
    "- **Application Binary Interface ( ABI ) of a verified smart contract** is a standardized interface between smart contracts and the applications or users that interact with them. It defines the methods that a smart contract exposes to the external world, including the input parameters and return values for each method. (It seems that some contracts show it and other don't depending if the person who verified the contract uploaded it) (PERHAPS ENDPOINT MAY BE USEFUL)\n",
    "- (To check what can we do with it) a **Proxy Contract** is a design pattern that allows for upgradability and flexibility in decentralized applications (DApps) without changing the contract's address on the blockchain. This pattern is particularly useful in situations where smart contracts need to be modified or upgraded after deployment without disrupting the existing users or applications that interact with the contract.\n",
    "- https://ethereum.org/en/developers/docs/apis/backend/#available-libraries has many interesting backend utilities\n",
    "\n",
    "\n",
    "\n",
    "\n",
    "En el caso de MeetDapp contamos con un Contract Factory que está creando un contrato nuevo por cada evento (MeeDapp corre en Polygon)\n",
    "\n",
    "Factory: 0xB243C8019c93f294c9f93330BF6eCC4F2218c49C\n",
    "\n",
    "&emsp; - Evento1: 0xc7e6cae21b4770472f0b78f38482605166a9568b\n",
    "\n",
    "For our usecase we do not Use Proxy Contract or a Contract Factory"
   ]
  },
  {
   "cell_type": "markdown",
   "metadata": {},
   "source": [
    "## Conecting with Filecoin"
   ]
  },
  {
   "cell_type": "markdown",
   "metadata": {},
   "source": [
    "Instalamos la libreria de web3 para conectarnos con la red de Filecoin"
   ]
  },
  {
   "cell_type": "code",
   "execution_count": 2,
   "metadata": {},
   "outputs": [],
   "source": [
    "!pip install web3 > /dev/null"
   ]
  },
  {
   "cell_type": "code",
   "execution_count": 3,
   "metadata": {},
   "outputs": [],
   "source": [
    "from web3 import Web3"
   ]
  },
  {
   "cell_type": "code",
   "execution_count": 4,
   "metadata": {},
   "outputs": [
    {
     "data": {
      "text/plain": [
       "True"
      ]
     },
     "execution_count": 4,
     "metadata": {},
     "output_type": "execute_result"
    }
   ],
   "source": [
    "WEB3_PROVIDER_URI = \"https://api.calibration.node.glif.io/\"\n",
    "w3 = Web3(Web3.HTTPProvider(WEB3_PROVIDER_URI, request_kwargs={'timeout': 60}))\n",
    "w3.is_connected()# verificando conexión\n"
   ]
  },
  {
   "cell_type": "markdown",
   "metadata": {},
   "source": [
    "Obteniendo el balance de una Wallet"
   ]
  },
  {
   "cell_type": "code",
   "execution_count": 6,
   "metadata": {},
   "outputs": [
    {
     "data": {
      "text/plain": [
       "200000000000000000000"
      ]
     },
     "execution_count": 6,
     "metadata": {},
     "output_type": "execute_result"
    }
   ],
   "source": [
    "w3.eth.get_balance(\"0x59A7AF3d5Df596e12Fb83dAF6744eD05b8587F10\") # obteniendo el balance de mi wallet"
   ]
  },
  {
   "cell_type": "markdown",
   "metadata": {},
   "source": [
    "Obteniendo transacciones de un address de un contrato"
   ]
  },
  {
   "cell_type": "code",
   "execution_count": 23,
   "metadata": {},
   "outputs": [
    {
     "data": {
      "text/plain": [
       "[]"
      ]
     },
     "execution_count": 23,
     "metadata": {},
     "output_type": "execute_result"
    }
   ],
   "source": [
    "contract_address = \"0x5B19897ACFF8c0DD9e51412Fe69ed4b617Cc88A9\"  # Replace with your contract address\n",
    "event_filter = {\n",
    "    'address': contract_address\n",
    "}\n",
    "# Get logs for the contract address\n",
    "w3.eth.get_logs(event_filter)\n"
   ]
  },
  {
   "cell_type": "code",
   "execution_count": 30,
   "metadata": {},
   "outputs": [],
   "source": [
    "adress2 = w3.eth.get_code('0x5B19897ACFF8c0DD9e51412Fe69ed4b617Cc88A9')"
   ]
  },
  {
   "cell_type": "code",
   "execution_count": 33,
   "metadata": {},
   "outputs": [
    {
     "data": {
      "text/plain": [
       "1"
      ]
     },
     "execution_count": 33,
     "metadata": {},
     "output_type": "execute_result"
    }
   ],
   "source": [
    "w3.eth.get_transaction_count(\"0x5B19897ACFF8c0DD9e51412Fe69ed4b617Cc88A9\")"
   ]
  },
  {
   "cell_type": "code",
   "execution_count": null,
   "metadata": {},
   "outputs": [],
   "source": []
  },
  {
   "cell_type": "markdown",
   "metadata": {},
   "source": [
    "Creando un objeto de tipo contrato para interactuar con el contrato. El abi es lo que nos indica que funciones tiene el contrato para que las podamos llamar"
   ]
  },
  {
   "cell_type": "code",
   "execution_count": 10,
   "metadata": {},
   "outputs": [
    {
     "name": "stdout",
     "output_type": "stream",
     "text": [
      "[{'inputs': [{'internalType': 'contract IVotes', 'name': '_token', 'type': 'address'}, {'internalType': 'contract TimelockController', 'name': '_timelock', 'type': 'address'}], 'stateMutability': 'nonpayable', 'type': 'constructor'}, {'inputs': [], 'name': 'FailedInnerCall', 'type': 'error'}, {'inputs': [{'internalType': 'address', 'name': 'voter', 'type': 'address'}], 'name': 'GovernorAlreadyCastVote', 'type': 'error'}, {'inputs': [{'internalType': 'uint256', 'name': 'proposalId', 'type': 'uint256'}], 'name': 'GovernorAlreadyQueuedProposal', 'type': 'error'}, {'inputs': [], 'name': 'GovernorDisabledDeposit', 'type': 'error'}, {'inputs': [{'internalType': 'address', 'name': 'proposer', 'type': 'address'}, {'internalType': 'uint256', 'name': 'votes', 'type': 'uint256'}, {'internalType': 'uint256', 'name': 'threshold', 'type': 'uint256'}], 'name': 'GovernorInsufficientProposerVotes', 'type': 'error'}, {'inputs': [{'internalType': 'uint256', 'name': 'targets', 'type': 'uint256'}, {'internalType': 'uint256', 'name': 'calldatas', 'type': 'uint256'}, {'internalType': 'uint256', 'name': 'values', 'type': 'uint256'}], 'name': 'GovernorInvalidProposalLength', 'type': 'error'}, {'inputs': [{'internalType': 'address', 'name': 'voter', 'type': 'address'}], 'name': 'GovernorInvalidSignature', 'type': 'error'}, {'inputs': [], 'name': 'GovernorInvalidVoteType', 'type': 'error'}, {'inputs': [{'internalType': 'uint256', 'name': 'votingPeriod', 'type': 'uint256'}], 'name': 'GovernorInvalidVotingPeriod', 'type': 'error'}, {'inputs': [{'internalType': 'uint256', 'name': 'proposalId', 'type': 'uint256'}], 'name': 'GovernorNonexistentProposal', 'type': 'error'}, {'inputs': [{'internalType': 'uint256', 'name': 'proposalId', 'type': 'uint256'}], 'name': 'GovernorNotQueuedProposal', 'type': 'error'}, {'inputs': [{'internalType': 'address', 'name': 'account', 'type': 'address'}], 'name': 'GovernorOnlyExecutor', 'type': 'error'}, {'inputs': [{'internalType': 'address', 'name': 'account', 'type': 'address'}], 'name': 'GovernorOnlyProposer', 'type': 'error'}, {'inputs': [], 'name': 'GovernorQueueNotImplemented', 'type': 'error'}, {'inputs': [{'internalType': 'address', 'name': 'proposer', 'type': 'address'}], 'name': 'GovernorRestrictedProposer', 'type': 'error'}, {'inputs': [{'internalType': 'uint256', 'name': 'proposalId', 'type': 'uint256'}, {'internalType': 'enum IGovernor.ProposalState', 'name': 'current', 'type': 'uint8'}, {'internalType': 'bytes32', 'name': 'expectedStates', 'type': 'bytes32'}], 'name': 'GovernorUnexpectedProposalState', 'type': 'error'}, {'inputs': [{'internalType': 'address', 'name': 'account', 'type': 'address'}, {'internalType': 'uint256', 'name': 'currentNonce', 'type': 'uint256'}], 'name': 'InvalidAccountNonce', 'type': 'error'}, {'inputs': [], 'name': 'InvalidShortString', 'type': 'error'}, {'inputs': [], 'name': 'QueueEmpty', 'type': 'error'}, {'inputs': [], 'name': 'QueueFull', 'type': 'error'}, {'inputs': [{'internalType': 'uint8', 'name': 'bits', 'type': 'uint8'}, {'internalType': 'uint256', 'name': 'value', 'type': 'uint256'}], 'name': 'SafeCastOverflowedUintDowncast', 'type': 'error'}, {'inputs': [{'internalType': 'string', 'name': 'str', 'type': 'string'}], 'name': 'StringTooLong', 'type': 'error'}, {'anonymous': False, 'inputs': [], 'name': 'EIP712DomainChanged', 'type': 'event'}, {'anonymous': False, 'inputs': [{'indexed': False, 'internalType': 'uint256', 'name': 'proposalId', 'type': 'uint256'}], 'name': 'ProposalCanceled', 'type': 'event'}, {'anonymous': False, 'inputs': [{'indexed': False, 'internalType': 'uint256', 'name': 'proposalId', 'type': 'uint256'}, {'indexed': False, 'internalType': 'address', 'name': 'proposer', 'type': 'address'}, {'indexed': False, 'internalType': 'address[]', 'name': 'targets', 'type': 'address[]'}, {'indexed': False, 'internalType': 'uint256[]', 'name': 'values', 'type': 'uint256[]'}, {'indexed': False, 'internalType': 'string[]', 'name': 'signatures', 'type': 'string[]'}, {'indexed': False, 'internalType': 'bytes[]', 'name': 'calldatas', 'type': 'bytes[]'}, {'indexed': False, 'internalType': 'uint256', 'name': 'voteStart', 'type': 'uint256'}, {'indexed': False, 'internalType': 'uint256', 'name': 'voteEnd', 'type': 'uint256'}, {'indexed': False, 'internalType': 'string', 'name': 'description', 'type': 'string'}], 'name': 'ProposalCreated', 'type': 'event'}, {'anonymous': False, 'inputs': [{'indexed': False, 'internalType': 'uint256', 'name': 'proposalId', 'type': 'uint256'}], 'name': 'ProposalExecuted', 'type': 'event'}, {'anonymous': False, 'inputs': [{'indexed': False, 'internalType': 'uint256', 'name': 'proposalId', 'type': 'uint256'}, {'indexed': False, 'internalType': 'uint256', 'name': 'etaSeconds', 'type': 'uint256'}], 'name': 'ProposalQueued', 'type': 'event'}, {'anonymous': False, 'inputs': [{'indexed': False, 'internalType': 'address', 'name': 'oldTimelock', 'type': 'address'}, {'indexed': False, 'internalType': 'address', 'name': 'newTimelock', 'type': 'address'}], 'name': 'TimelockChange', 'type': 'event'}, {'anonymous': False, 'inputs': [{'indexed': True, 'internalType': 'address', 'name': 'voter', 'type': 'address'}, {'indexed': False, 'internalType': 'uint256', 'name': 'proposalId', 'type': 'uint256'}, {'indexed': False, 'internalType': 'uint8', 'name': 'support', 'type': 'uint8'}, {'indexed': False, 'internalType': 'uint256', 'name': 'weight', 'type': 'uint256'}, {'indexed': False, 'internalType': 'string', 'name': 'reason', 'type': 'string'}], 'name': 'VoteCast', 'type': 'event'}, {'anonymous': False, 'inputs': [{'indexed': True, 'internalType': 'address', 'name': 'voter', 'type': 'address'}, {'indexed': False, 'internalType': 'uint256', 'name': 'proposalId', 'type': 'uint256'}, {'indexed': False, 'internalType': 'uint8', 'name': 'support', 'type': 'uint8'}, {'indexed': False, 'internalType': 'uint256', 'name': 'weight', 'type': 'uint256'}, {'indexed': False, 'internalType': 'string', 'name': 'reason', 'type': 'string'}, {'indexed': False, 'internalType': 'bytes', 'name': 'params', 'type': 'bytes'}], 'name': 'VoteCastWithParams', 'type': 'event'}, {'inputs': [], 'name': 'BALLOT_TYPEHASH', 'outputs': [{'internalType': 'bytes32', 'name': '', 'type': 'bytes32'}], 'stateMutability': 'view', 'type': 'function'}, {'inputs': [], 'name': 'CLOCK_MODE', 'outputs': [{'internalType': 'string', 'name': '', 'type': 'string'}], 'stateMutability': 'view', 'type': 'function'}, {'inputs': [], 'name': 'COUNTING_MODE', 'outputs': [{'internalType': 'string', 'name': '', 'type': 'string'}], 'stateMutability': 'pure', 'type': 'function'}, {'inputs': [], 'name': 'EXTENDED_BALLOT_TYPEHASH', 'outputs': [{'internalType': 'bytes32', 'name': '', 'type': 'bytes32'}], 'stateMutability': 'view', 'type': 'function'}, {'inputs': [{'internalType': 'address[]', 'name': 'targets', 'type': 'address[]'}, {'internalType': 'uint256[]', 'name': 'values', 'type': 'uint256[]'}, {'internalType': 'bytes[]', 'name': 'calldatas', 'type': 'bytes[]'}, {'internalType': 'bytes32', 'name': 'descriptionHash', 'type': 'bytes32'}], 'name': 'cancel', 'outputs': [{'internalType': 'uint256', 'name': '', 'type': 'uint256'}], 'stateMutability': 'nonpayable', 'type': 'function'}, {'inputs': [{'internalType': 'uint256', 'name': 'proposalId', 'type': 'uint256'}, {'internalType': 'uint8', 'name': 'support', 'type': 'uint8'}], 'name': 'castVote', 'outputs': [{'internalType': 'uint256', 'name': '', 'type': 'uint256'}], 'stateMutability': 'nonpayable', 'type': 'function'}, {'inputs': [{'internalType': 'uint256', 'name': 'proposalId', 'type': 'uint256'}, {'internalType': 'uint8', 'name': 'support', 'type': 'uint8'}, {'internalType': 'address', 'name': 'voter', 'type': 'address'}, {'internalType': 'bytes', 'name': 'signature', 'type': 'bytes'}], 'name': 'castVoteBySig', 'outputs': [{'internalType': 'uint256', 'name': '', 'type': 'uint256'}], 'stateMutability': 'nonpayable', 'type': 'function'}, {'inputs': [{'internalType': 'uint256', 'name': 'proposalId', 'type': 'uint256'}, {'internalType': 'uint8', 'name': 'support', 'type': 'uint8'}, {'internalType': 'string', 'name': 'reason', 'type': 'string'}], 'name': 'castVoteWithReason', 'outputs': [{'internalType': 'uint256', 'name': '', 'type': 'uint256'}], 'stateMutability': 'nonpayable', 'type': 'function'}, {'inputs': [{'internalType': 'uint256', 'name': 'proposalId', 'type': 'uint256'}, {'internalType': 'uint8', 'name': 'support', 'type': 'uint8'}, {'internalType': 'string', 'name': 'reason', 'type': 'string'}, {'internalType': 'bytes', 'name': 'params', 'type': 'bytes'}], 'name': 'castVoteWithReasonAndParams', 'outputs': [{'internalType': 'uint256', 'name': '', 'type': 'uint256'}], 'stateMutability': 'nonpayable', 'type': 'function'}, {'inputs': [{'internalType': 'uint256', 'name': 'proposalId', 'type': 'uint256'}, {'internalType': 'uint8', 'name': 'support', 'type': 'uint8'}, {'internalType': 'address', 'name': 'voter', 'type': 'address'}, {'internalType': 'string', 'name': 'reason', 'type': 'string'}, {'internalType': 'bytes', 'name': 'params', 'type': 'bytes'}, {'internalType': 'bytes', 'name': 'signature', 'type': 'bytes'}], 'name': 'castVoteWithReasonAndParamsBySig', 'outputs': [{'internalType': 'uint256', 'name': '', 'type': 'uint256'}], 'stateMutability': 'nonpayable', 'type': 'function'}, {'inputs': [], 'name': 'clock', 'outputs': [{'internalType': 'uint48', 'name': '', 'type': 'uint48'}], 'stateMutability': 'view', 'type': 'function'}, {'inputs': [], 'name': 'eip712Domain', 'outputs': [{'internalType': 'bytes1', 'name': 'fields', 'type': 'bytes1'}, {'internalType': 'string', 'name': 'name', 'type': 'string'}, {'internalType': 'string', 'name': 'version', 'type': 'string'}, {'internalType': 'uint256', 'name': 'chainId', 'type': 'uint256'}, {'internalType': 'address', 'name': 'verifyingContract', 'type': 'address'}, {'internalType': 'bytes32', 'name': 'salt', 'type': 'bytes32'}, {'internalType': 'uint256[]', 'name': 'extensions', 'type': 'uint256[]'}], 'stateMutability': 'view', 'type': 'function'}, {'inputs': [{'internalType': 'address[]', 'name': 'targets', 'type': 'address[]'}, {'internalType': 'uint256[]', 'name': 'values', 'type': 'uint256[]'}, {'internalType': 'bytes[]', 'name': 'calldatas', 'type': 'bytes[]'}, {'internalType': 'bytes32', 'name': 'descriptionHash', 'type': 'bytes32'}], 'name': 'execute', 'outputs': [{'internalType': 'uint256', 'name': '', 'type': 'uint256'}], 'stateMutability': 'payable', 'type': 'function'}, {'inputs': [{'internalType': 'address', 'name': 'account', 'type': 'address'}, {'internalType': 'uint256', 'name': 'timepoint', 'type': 'uint256'}], 'name': 'getVotes', 'outputs': [{'internalType': 'uint256', 'name': '', 'type': 'uint256'}], 'stateMutability': 'view', 'type': 'function'}, {'inputs': [{'internalType': 'address', 'name': 'account', 'type': 'address'}, {'internalType': 'uint256', 'name': 'timepoint', 'type': 'uint256'}, {'internalType': 'bytes', 'name': 'params', 'type': 'bytes'}], 'name': 'getVotesWithParams', 'outputs': [{'internalType': 'uint256', 'name': '', 'type': 'uint256'}], 'stateMutability': 'view', 'type': 'function'}, {'inputs': [{'internalType': 'uint256', 'name': 'proposalId', 'type': 'uint256'}, {'internalType': 'address', 'name': 'account', 'type': 'address'}], 'name': 'hasVoted', 'outputs': [{'internalType': 'bool', 'name': '', 'type': 'bool'}], 'stateMutability': 'view', 'type': 'function'}, {'inputs': [{'internalType': 'address[]', 'name': 'targets', 'type': 'address[]'}, {'internalType': 'uint256[]', 'name': 'values', 'type': 'uint256[]'}, {'internalType': 'bytes[]', 'name': 'calldatas', 'type': 'bytes[]'}, {'internalType': 'bytes32', 'name': 'descriptionHash', 'type': 'bytes32'}], 'name': 'hashProposal', 'outputs': [{'internalType': 'uint256', 'name': '', 'type': 'uint256'}], 'stateMutability': 'pure', 'type': 'function'}, {'inputs': [], 'name': 'name', 'outputs': [{'internalType': 'string', 'name': '', 'type': 'string'}], 'stateMutability': 'view', 'type': 'function'}, {'inputs': [{'internalType': 'address', 'name': 'owner', 'type': 'address'}], 'name': 'nonces', 'outputs': [{'internalType': 'uint256', 'name': '', 'type': 'uint256'}], 'stateMutability': 'view', 'type': 'function'}, {'inputs': [{'internalType': 'address', 'name': '', 'type': 'address'}, {'internalType': 'address', 'name': '', 'type': 'address'}, {'internalType': 'uint256[]', 'name': '', 'type': 'uint256[]'}, {'internalType': 'uint256[]', 'name': '', 'type': 'uint256[]'}, {'internalType': 'bytes', 'name': '', 'type': 'bytes'}], 'name': 'onERC1155BatchReceived', 'outputs': [{'internalType': 'bytes4', 'name': '', 'type': 'bytes4'}], 'stateMutability': 'nonpayable', 'type': 'function'}, {'inputs': [{'internalType': 'address', 'name': '', 'type': 'address'}, {'internalType': 'address', 'name': '', 'type': 'address'}, {'internalType': 'uint256', 'name': '', 'type': 'uint256'}, {'internalType': 'uint256', 'name': '', 'type': 'uint256'}, {'internalType': 'bytes', 'name': '', 'type': 'bytes'}], 'name': 'onERC1155Received', 'outputs': [{'internalType': 'bytes4', 'name': '', 'type': 'bytes4'}], 'stateMutability': 'nonpayable', 'type': 'function'}, {'inputs': [{'internalType': 'address', 'name': '', 'type': 'address'}, {'internalType': 'address', 'name': '', 'type': 'address'}, {'internalType': 'uint256', 'name': '', 'type': 'uint256'}, {'internalType': 'bytes', 'name': '', 'type': 'bytes'}], 'name': 'onERC721Received', 'outputs': [{'internalType': 'bytes4', 'name': '', 'type': 'bytes4'}], 'stateMutability': 'nonpayable', 'type': 'function'}, {'inputs': [{'internalType': 'uint256', 'name': 'proposalId', 'type': 'uint256'}], 'name': 'proposalDeadline', 'outputs': [{'internalType': 'uint256', 'name': '', 'type': 'uint256'}], 'stateMutability': 'view', 'type': 'function'}, {'inputs': [{'internalType': 'uint256', 'name': 'proposalId', 'type': 'uint256'}], 'name': 'proposalEta', 'outputs': [{'internalType': 'uint256', 'name': '', 'type': 'uint256'}], 'stateMutability': 'view', 'type': 'function'}, {'inputs': [{'internalType': 'uint256', 'name': 'proposalId', 'type': 'uint256'}], 'name': 'proposalNeedsQueuing', 'outputs': [{'internalType': 'bool', 'name': '', 'type': 'bool'}], 'stateMutability': 'view', 'type': 'function'}, {'inputs': [{'internalType': 'uint256', 'name': 'proposalId', 'type': 'uint256'}], 'name': 'proposalProposer', 'outputs': [{'internalType': 'address', 'name': '', 'type': 'address'}], 'stateMutability': 'view', 'type': 'function'}, {'inputs': [{'internalType': 'uint256', 'name': 'proposalId', 'type': 'uint256'}], 'name': 'proposalSnapshot', 'outputs': [{'internalType': 'uint256', 'name': '', 'type': 'uint256'}], 'stateMutability': 'view', 'type': 'function'}, {'inputs': [], 'name': 'proposalThreshold', 'outputs': [{'internalType': 'uint256', 'name': '', 'type': 'uint256'}], 'stateMutability': 'view', 'type': 'function'}, {'inputs': [{'internalType': 'uint256', 'name': 'proposalId', 'type': 'uint256'}], 'name': 'proposalVotes', 'outputs': [{'internalType': 'uint256', 'name': 'againstVotes', 'type': 'uint256'}, {'internalType': 'uint256', 'name': 'forVotes', 'type': 'uint256'}, {'internalType': 'uint256', 'name': 'abstainVotes', 'type': 'uint256'}], 'stateMutability': 'view', 'type': 'function'}, {'inputs': [{'internalType': 'address[]', 'name': 'targets', 'type': 'address[]'}, {'internalType': 'uint256[]', 'name': 'values', 'type': 'uint256[]'}, {'internalType': 'bytes[]', 'name': 'calldatas', 'type': 'bytes[]'}, {'internalType': 'string', 'name': 'description', 'type': 'string'}], 'name': 'propose', 'outputs': [{'internalType': 'uint256', 'name': '', 'type': 'uint256'}], 'stateMutability': 'nonpayable', 'type': 'function'}, {'inputs': [{'internalType': 'address[]', 'name': 'targets', 'type': 'address[]'}, {'internalType': 'uint256[]', 'name': 'values', 'type': 'uint256[]'}, {'internalType': 'bytes[]', 'name': 'calldatas', 'type': 'bytes[]'}, {'internalType': 'bytes32', 'name': 'descriptionHash', 'type': 'bytes32'}], 'name': 'queue', 'outputs': [{'internalType': 'uint256', 'name': '', 'type': 'uint256'}], 'stateMutability': 'nonpayable', 'type': 'function'}, {'inputs': [{'internalType': 'uint256', 'name': 'blockNumber', 'type': 'uint256'}], 'name': 'quorum', 'outputs': [{'internalType': 'uint256', 'name': '', 'type': 'uint256'}], 'stateMutability': 'pure', 'type': 'function'}, {'inputs': [{'internalType': 'address', 'name': 'target', 'type': 'address'}, {'internalType': 'uint256', 'name': 'value', 'type': 'uint256'}, {'internalType': 'bytes', 'name': 'data', 'type': 'bytes'}], 'name': 'relay', 'outputs': [], 'stateMutability': 'payable', 'type': 'function'}, {'inputs': [{'internalType': 'uint256', 'name': 'proposalId', 'type': 'uint256'}], 'name': 'state', 'outputs': [{'internalType': 'enum IGovernor.ProposalState', 'name': '', 'type': 'uint8'}], 'stateMutability': 'view', 'type': 'function'}, {'inputs': [{'internalType': 'bytes4', 'name': 'interfaceId', 'type': 'bytes4'}], 'name': 'supportsInterface', 'outputs': [{'internalType': 'bool', 'name': '', 'type': 'bool'}], 'stateMutability': 'view', 'type': 'function'}, {'inputs': [], 'name': 'timelock', 'outputs': [{'internalType': 'address', 'name': '', 'type': 'address'}], 'stateMutability': 'view', 'type': 'function'}, {'inputs': [], 'name': 'token', 'outputs': [{'internalType': 'contract IERC5805', 'name': '', 'type': 'address'}], 'stateMutability': 'view', 'type': 'function'}, {'inputs': [{'internalType': 'contract TimelockController', 'name': 'newTimelock', 'type': 'address'}], 'name': 'updateTimelock', 'outputs': [], 'stateMutability': 'nonpayable', 'type': 'function'}, {'inputs': [], 'name': 'version', 'outputs': [{'internalType': 'string', 'name': '', 'type': 'string'}], 'stateMutability': 'view', 'type': 'function'}, {'inputs': [], 'name': 'votingDelay', 'outputs': [{'internalType': 'uint256', 'name': '', 'type': 'uint256'}], 'stateMutability': 'pure', 'type': 'function'}, {'inputs': [], 'name': 'votingPeriod', 'outputs': [{'internalType': 'uint256', 'name': '', 'type': 'uint256'}], 'stateMutability': 'pure', 'type': 'function'}, {'stateMutability': 'payable', 'type': 'receive'}]\n"
     ]
    }
   ],
   "source": [
    "import json\n",
    "\n",
    "# Read ABI from JSON file\n",
    "with open('contract_abi.json', 'r') as abi_file:\n",
    "    contract_abi = json.load(abi_file)\n",
    "\n",
    "# Now, contract_abi is a Python list containing the ABI data\n",
    "print(contract_abi)"
   ]
  },
  {
   "cell_type": "code",
   "execution_count": 15,
   "metadata": {},
   "outputs": [
    {
     "data": {
      "text/plain": [
       "'GovGCV'"
      ]
     },
     "execution_count": 15,
     "metadata": {},
     "output_type": "execute_result"
    }
   ],
   "source": [
    "contract = w3.eth.contract(address=contract_address, abi=contract_abi)\n",
    "contract.functions.name().call()"
   ]
  },
  {
   "cell_type": "code",
   "execution_count": null,
   "metadata": {},
   "outputs": [],
   "source": []
  }
 ],
 "metadata": {
  "kernelspec": {
   "display_name": "Python 3",
   "language": "python",
   "name": "python3"
  },
  "language_info": {
   "codemirror_mode": {
    "name": "ipython",
    "version": 3
   },
   "file_extension": ".py",
   "mimetype": "text/x-python",
   "name": "python",
   "nbconvert_exporter": "python",
   "pygments_lexer": "ipython3",
   "version": "3.10.8"
  }
 },
 "nbformat": 4,
 "nbformat_minor": 2
}
